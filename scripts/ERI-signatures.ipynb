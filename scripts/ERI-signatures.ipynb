{
 "cells": [
  {
   "cell_type": "code",
   "execution_count": 1,
   "metadata": {},
   "outputs": [],
   "source": [
    "# Load libraries \n",
    "import pandas as pd\n",
    "import numpy as np\n",
    "import matplotlib\n",
    "import matplotlib.pyplot as plt"
   ]
  },
  {
   "cell_type": "code",
   "execution_count": 12,
   "metadata": {},
   "outputs": [
    {
     "data": {
      "text/html": [
       "<div>\n",
       "<style scoped>\n",
       "    .dataframe tbody tr th:only-of-type {\n",
       "        vertical-align: middle;\n",
       "    }\n",
       "\n",
       "    .dataframe tbody tr th {\n",
       "        vertical-align: top;\n",
       "    }\n",
       "\n",
       "    .dataframe thead th {\n",
       "        text-align: right;\n",
       "    }\n",
       "</style>\n",
       "<table border=\"1\" class=\"dataframe\">\n",
       "  <thead>\n",
       "    <tr style=\"text-align: right;\">\n",
       "      <th></th>\n",
       "      <th>division</th>\n",
       "      <th>group</th>\n",
       "      <th>label</th>\n",
       "      <th>count</th>\n",
       "    </tr>\n",
       "  </thead>\n",
       "  <tbody>\n",
       "    <tr>\n",
       "      <th>0</th>\n",
       "      <td>Biological Sciences</td>\n",
       "      <td>0602 Ecology</td>\n",
       "      <td>602</td>\n",
       "      <td>466</td>\n",
       "    </tr>\n",
       "    <tr>\n",
       "      <th>1</th>\n",
       "      <td>Earth Sciences</td>\n",
       "      <td>0403 Geology</td>\n",
       "      <td>403</td>\n",
       "      <td>305</td>\n",
       "    </tr>\n",
       "    <tr>\n",
       "      <th>2</th>\n",
       "      <td>Environmental Sciences</td>\n",
       "      <td>0502 Environmental Science and Management</td>\n",
       "      <td>502</td>\n",
       "      <td>251</td>\n",
       "    </tr>\n",
       "    <tr>\n",
       "      <th>3</th>\n",
       "      <td>Earth Sciences</td>\n",
       "      <td>0406 Physical Geography and Environmental Geos...</td>\n",
       "      <td>406</td>\n",
       "      <td>229</td>\n",
       "    </tr>\n",
       "    <tr>\n",
       "      <th>4</th>\n",
       "      <td>Engineering</td>\n",
       "      <td>0909 Geomatic Engineering</td>\n",
       "      <td>909</td>\n",
       "      <td>154</td>\n",
       "    </tr>\n",
       "  </tbody>\n",
       "</table>\n",
       "</div>"
      ],
      "text/plain": [
       "                 division                                              group  \\\n",
       "0     Biological Sciences                                       0602 Ecology   \n",
       "1          Earth Sciences                                       0403 Geology   \n",
       "2  Environmental Sciences          0502 Environmental Science and Management   \n",
       "3          Earth Sciences  0406 Physical Geography and Environmental Geos...   \n",
       "4             Engineering                          0909 Geomatic Engineering   \n",
       "\n",
       "   label  count  \n",
       "0    602    466  \n",
       "1    403    305  \n",
       "2    502    251  \n",
       "3    406    229  \n",
       "4    909    154  "
      ]
     },
     "execution_count": 12,
     "metadata": {},
     "output_type": "execute_result"
    }
   ],
   "source": [
    "# Load csv of deduplicated publication FOR codes (09-14 | 14-19)\n",
    "new_codes = pd.read_csv(\"data/publications/ERI-publications-2009-2014-treemap-deduplicated.csv\", index_col=0)\n",
    "#new_codes = pd.read_csv(\"data/publications/ERI-publications-2014-2019-treemap-deduplicated.csv\", index_col=0)\n",
    "new_codes.head()"
   ]
  },
  {
   "cell_type": "code",
   "execution_count": 15,
   "metadata": {},
   "outputs": [
    {
     "data": {
      "text/html": [
       "<div>\n",
       "<style scoped>\n",
       "    .dataframe tbody tr th:only-of-type {\n",
       "        vertical-align: middle;\n",
       "    }\n",
       "\n",
       "    .dataframe tbody tr th {\n",
       "        vertical-align: top;\n",
       "    }\n",
       "\n",
       "    .dataframe thead th {\n",
       "        text-align: right;\n",
       "    }\n",
       "</style>\n",
       "<table border=\"1\" class=\"dataframe\">\n",
       "  <thead>\n",
       "    <tr style=\"text-align: right;\">\n",
       "      <th></th>\n",
       "      <th>division</th>\n",
       "      <th>count</th>\n",
       "    </tr>\n",
       "  </thead>\n",
       "  <tbody>\n",
       "    <tr>\n",
       "      <th>0</th>\n",
       "      <td>Agricultural and Veterinary Sciences</td>\n",
       "      <td>54</td>\n",
       "    </tr>\n",
       "    <tr>\n",
       "      <th>1</th>\n",
       "      <td>Biological Sciences</td>\n",
       "      <td>807</td>\n",
       "    </tr>\n",
       "    <tr>\n",
       "      <th>2</th>\n",
       "      <td>Built Environment and Design</td>\n",
       "      <td>17</td>\n",
       "    </tr>\n",
       "    <tr>\n",
       "      <th>3</th>\n",
       "      <td>Chemical Sciences</td>\n",
       "      <td>371</td>\n",
       "    </tr>\n",
       "    <tr>\n",
       "      <th>4</th>\n",
       "      <td>Commerce, Management, Tourism and Services</td>\n",
       "      <td>7</td>\n",
       "    </tr>\n",
       "  </tbody>\n",
       "</table>\n",
       "</div>"
      ],
      "text/plain": [
       "                                     division  count\n",
       "0        Agricultural and Veterinary Sciences     54\n",
       "1                         Biological Sciences    807\n",
       "2                Built Environment and Design     17\n",
       "3                           Chemical Sciences    371\n",
       "4  Commerce, Management, Tourism and Services      7"
      ]
     },
     "execution_count": 15,
     "metadata": {},
     "output_type": "execute_result"
    }
   ],
   "source": [
    "# New summarized dataframe of ERI's FOR codes (09-14 | 24-19) by division\n",
    "eriDivisions = new_codes.groupby(['division'],as_index=False)['count'].sum()\n",
    "eriDivisions.sort_values('count',ascending=False)\n",
    "eriDivisions.head()\n",
    "#eriDivisions.to_csv(\"data/publications/ERI-publications-2009-2014-signatures-divisions.csv\")\n",
    "#eriDivisions.to_csv(\"data/publications/ERI-publications-2014-2019-signatures-divisions.csv\")"
   ]
  },
  {
   "cell_type": "code",
   "execution_count": 16,
   "metadata": {},
   "outputs": [
    {
     "data": {
      "text/html": [
       "<div>\n",
       "<style scoped>\n",
       "    .dataframe tbody tr th:only-of-type {\n",
       "        vertical-align: middle;\n",
       "    }\n",
       "\n",
       "    .dataframe tbody tr th {\n",
       "        vertical-align: top;\n",
       "    }\n",
       "\n",
       "    .dataframe thead th {\n",
       "        text-align: right;\n",
       "    }\n",
       "</style>\n",
       "<table border=\"1\" class=\"dataframe\">\n",
       "  <thead>\n",
       "    <tr style=\"text-align: right;\">\n",
       "      <th></th>\n",
       "      <th>group</th>\n",
       "      <th>count</th>\n",
       "    </tr>\n",
       "  </thead>\n",
       "  <tbody>\n",
       "    <tr>\n",
       "      <th>0</th>\n",
       "      <td>01 Mathematical Sciences</td>\n",
       "      <td>14</td>\n",
       "    </tr>\n",
       "    <tr>\n",
       "      <th>1</th>\n",
       "      <td>0202 Atomic, Molecular, Nuclear, Particle and...</td>\n",
       "      <td>24</td>\n",
       "    </tr>\n",
       "    <tr>\n",
       "      <th>2</th>\n",
       "      <td>0203 Classical Physics</td>\n",
       "      <td>2</td>\n",
       "    </tr>\n",
       "    <tr>\n",
       "      <th>3</th>\n",
       "      <td>03 Chemical Sciences</td>\n",
       "      <td>80</td>\n",
       "    </tr>\n",
       "    <tr>\n",
       "      <th>4</th>\n",
       "      <td>0399 Other Chemical Sciences</td>\n",
       "      <td>25</td>\n",
       "    </tr>\n",
       "  </tbody>\n",
       "</table>\n",
       "</div>"
      ],
      "text/plain": [
       "                                               group  count\n",
       "0                           01 Mathematical Sciences     14\n",
       "1   0202 Atomic, Molecular, Nuclear, Particle and...     24\n",
       "2                             0203 Classical Physics      2\n",
       "3                               03 Chemical Sciences     80\n",
       "4                       0399 Other Chemical Sciences     25"
      ]
     },
     "execution_count": 16,
     "metadata": {},
     "output_type": "execute_result"
    }
   ],
   "source": [
    "# New summarized dataframe of ERI's FOR codes (09-14 | 24-19) by group\n",
    "eriGroups = new_codes.groupby(['group'],as_index=False)['count'].sum()\n",
    "eriGroups.sort_values('count',ascending=False)\n",
    "eriGroups.head()\n",
    "#eriGroups.to_csv(\"data/publications/ERI-publications-2009-2014-signatures-groups.csv\")\n",
    "#eriGroups.to_csv(\"data/publications/ERI-publications-2014-2019-signatures-groups.csv\")"
   ]
  },
  {
   "cell_type": "code",
   "execution_count": 17,
   "metadata": {},
   "outputs": [
    {
     "data": {
      "image/png": "[encoded data removed]",
      "text/plain": [
       "<Figure size 432x288 with 1 Axes>"
      ]
     },
     "metadata": {},
     "output_type": "display_data"
    },
    {
     "data": {
      "text/plain": [
       "<Figure size 432x288 with 0 Axes>"
      ]
     },
     "metadata": {},
     "output_type": "display_data"
    }
   ],
   "source": [
    "# Plot bar chart to see FOR divisions for all of ERI (09-14 | 14-19)\n",
    "# CHANGE labels and filename to reflect years and ERI | PI\n",
    "plt.style.use('ggplot')\n",
    "x_pos = [i for i, _ in enumerate(eriDivisions['division'])]\n",
    "plt.bar(x_pos, eriDivisions['count'], color='teal')\n",
    "plt.xlabel(\"FOR division\")\n",
    "plt.ylabel(\"count (by publication)\")\n",
    "plt.title(\"ERI Field of Research Divisions (2009-2014)\")\n",
    "plt.xticks(x_pos)\n",
    "#plt.savefig('figures/ERI_FOR_divisions_bar_2009_2014.png', dpi=200)\n",
    "plt.show()\n",
    "plt.draw()"
   ]
  },
  {
   "cell_type": "code",
   "execution_count": 18,
   "metadata": {},
   "outputs": [
    {
     "data": {
      "image/png": "[encoded data removed]",
      "text/plain": [
       "<Figure size 432x288 with 1 Axes>"
      ]
     },
     "metadata": {},
     "output_type": "display_data"
    },
    {
     "data": {
      "text/plain": [
       "<Figure size 432x288 with 0 Axes>"
      ]
     },
     "metadata": {},
     "output_type": "display_data"
    }
   ],
   "source": [
    "# Plot bar chart to see FOR groups for all of ERI (09-14 | 14-19)\n",
    "# CHANGE labels and filename to reflect years and ERI | PI\n",
    "plt.style.use('ggplot')\n",
    "x_pos = [i for i, _ in enumerate(eriGroups['group'])]\n",
    "plt.bar(x_pos, eriGroups['count'], color='orange')\n",
    "plt.xlabel(\"FOR group\")\n",
    "plt.ylabel(\"count (by publication)\")\n",
    "plt.title(\"ERI Field of Research Groups (2009-2014)\")\n",
    "plt.xticks(x_pos)\n",
    "#plt.savefig('figures/ERI_FOR_groups_bar_2009_2014.png', dpi=200)\n",
    "plt.show()\n",
    "plt.draw()"
   ]
  },
  {
   "cell_type": "code",
   "execution_count": null,
   "metadata": {},
   "outputs": [],
   "source": []
  }
 ],
 "metadata": {
  "kernelspec": {
   "display_name": "Python 3",
   "language": "python",
   "name": "python3"
  },
  "language_info": {
   "codemirror_mode": {
    "name": "ipython",
    "version": 3
   },
   "file_extension": ".py",
   "mimetype": "text/x-python",
   "name": "python",
   "nbconvert_exporter": "python",
   "pygments_lexer": "ipython3",
   "version": "3.7.7"
  }
 },
 "nbformat": 4,
 "nbformat_minor": 4
}
