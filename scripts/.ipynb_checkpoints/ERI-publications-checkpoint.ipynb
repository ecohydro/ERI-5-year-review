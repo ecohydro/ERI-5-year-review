{
 "cells": [
  {
   "cell_type": "code",
   "execution_count": 1,
   "metadata": {},
   "outputs": [],
   "source": [
    "# Import libraries\n",
    "import pandas as pd\n",
    "import numpy as np\n",
    "import glob\n",
    "import os"
   ]
  },
  {
   "cell_type": "code",
   "execution_count": 5,
   "metadata": {},
   "outputs": [
    {
     "data": {
      "text/plain": [
       "13383"
      ]
     },
     "execution_count": 5,
     "metadata": {},
     "output_type": "execute_result"
    }
   ],
   "source": [
    "# Read in csvs of ERI PI publications (09-14 | 14-19) from Dimensions to a single dataframe (all_data)\n",
    "all_data = pd.DataFrame()\n",
    "for f in glob.glob(\"data/publications/ERI-publications-09-14/ERI-publications/*.csv\"):\n",
    "    #df = pd.read_csv(f,index_col=None,skiprows=1)\n",
    "    df = pd.read_csv(f,index_col=0,header=1)\n",
    "    df['filename'] = os.path.basename(f)\n",
    "    all_data = all_data.append(df,ignore_index=True, sort=False)\n",
    "#all_data.head()\n",
    "len(all_data)"
   ]
  },
  {
   "cell_type": "code",
   "execution_count": 20,
   "metadata": {},
   "outputs": [
    {
     "data": {
      "text/plain": [
       "3192"
      ]
     },
     "execution_count": 20,
     "metadata": {},
     "output_type": "execute_result"
    }
   ],
   "source": [
    "# Subset dataframe (all_data) to only include records (2009-2014 | 2014-2019) for all PIs and return count of pubs\n",
    "subset = all_data[(all_data.PubYear>=2009.0)&(all_data.PubYear<=2014.0)]\n",
    "#subset.dtypes\n",
    "#subset.head()\n",
    "len(subset)\n",
    "subset.to_csv(\"data/publications/ERI-publications-2009-2014_processed.csv\")\n"
   ]
  },
  {
   "cell_type": "code",
   "execution_count": 3,
   "metadata": {},
   "outputs": [
    {
     "data": {
      "text/plain": [
       "2426"
      ]
     },
     "execution_count": 3,
     "metadata": {},
     "output_type": "execute_result"
    }
   ],
   "source": [
    "# Load subset dataframe for all ERI (09-14 | 14-19)\n",
    "subset_data_09 = pd.read_csv(\"data/publications/k-ERI-publications-2009-2014_cleaned.csv\")\n",
    "#pi_data_09 = subset_data_09[(subset_data_09.filename==\"David-A-Siegel.csv\")]\n",
    "subset_data_14 = pd.read_csv(\"data/publications/k-ERI-publications-2014-2019_cleaned.csv\")\n",
    "#pi_data_14 = subset_data_14[(subset_data_14.filename==\"David-A-Siegel.xlsx\")]\n",
    "len(subset_data_14)\n"
   ]
  },
  {
   "cell_type": "code",
   "execution_count": 4,
   "metadata": {},
   "outputs": [
    {
     "data": {
      "text/html": [
       "<div>\n",
       "<style scoped>\n",
       "    .dataframe tbody tr th:only-of-type {\n",
       "        vertical-align: middle;\n",
       "    }\n",
       "\n",
       "    .dataframe tbody tr th {\n",
       "        vertical-align: top;\n",
       "    }\n",
       "\n",
       "    .dataframe thead th {\n",
       "        text-align: right;\n",
       "    }\n",
       "</style>\n",
       "<table border=\"1\" class=\"dataframe\">\n",
       "  <thead>\n",
       "    <tr style=\"text-align: right;\">\n",
       "      <th></th>\n",
       "      <th>Code</th>\n",
       "      <th>Count</th>\n",
       "      <th>Label</th>\n",
       "      <th>id</th>\n",
       "      <th>name</th>\n",
       "    </tr>\n",
       "  </thead>\n",
       "  <tbody>\n",
       "    <tr>\n",
       "      <th>0</th>\n",
       "      <td>06 Biological Sciences</td>\n",
       "      <td>688</td>\n",
       "      <td>06</td>\n",
       "      <td>06</td>\n",
       "      <td>Biological Sciences</td>\n",
       "    </tr>\n",
       "    <tr>\n",
       "      <th>1</th>\n",
       "      <td>04 Earth Sciences</td>\n",
       "      <td>554</td>\n",
       "      <td>04</td>\n",
       "      <td>04</td>\n",
       "      <td>Earth Sciences</td>\n",
       "    </tr>\n",
       "    <tr>\n",
       "      <th>3</th>\n",
       "      <td>0403 Geology</td>\n",
       "      <td>417</td>\n",
       "      <td>0403</td>\n",
       "      <td>0403</td>\n",
       "      <td>Geology</td>\n",
       "    </tr>\n",
       "    <tr>\n",
       "      <th>4</th>\n",
       "      <td>0502 Environmental Science and Management</td>\n",
       "      <td>338</td>\n",
       "      <td>0502</td>\n",
       "      <td>0502</td>\n",
       "      <td>Environmental Science and Management</td>\n",
       "    </tr>\n",
       "    <tr>\n",
       "      <th>5</th>\n",
       "      <td>0602 Ecology</td>\n",
       "      <td>305</td>\n",
       "      <td>0602</td>\n",
       "      <td>0602</td>\n",
       "      <td>Ecology</td>\n",
       "    </tr>\n",
       "  </tbody>\n",
       "</table>\n",
       "</div>"
      ],
      "text/plain": [
       "                                         Code  Count Label    id  \\\n",
       "0                      06 Biological Sciences    688    06    06   \n",
       "1                           04 Earth Sciences    554    04    04   \n",
       "3                                0403 Geology    417  0403  0403   \n",
       "4   0502 Environmental Science and Management    338  0502  0502   \n",
       "5                                0602 Ecology    305  0602  0602   \n",
       "\n",
       "                                   name  \n",
       "0                   Biological Sciences  \n",
       "1                        Earth Sciences  \n",
       "3                               Geology  \n",
       "4  Environmental Science and Management  \n",
       "5                               Ecology  "
      ]
     },
     "execution_count": 4,
     "metadata": {},
     "output_type": "execute_result"
    }
   ],
   "source": [
    "# Read in ERI or PI Field of Research (FOR) divisions and groups (146)\n",
    "# CHANGE all_codes_ERI = accordingly for all of ERI (subset_data_09 | _14) or for specific PI (pi_data_09 |_14)\n",
    "all_codes_ERI = subset_data_14['FOR (ANZSRC) Categories']\n",
    "split_codes_ERI = all_codes_ERI.str.split(pat=\";\",expand=True).stack()\n",
    "values_ERI = split_codes_ERI.value_counts().keys().tolist()\n",
    "counts_ERI = split_codes_ERI.value_counts().tolist()\n",
    "research_codes_ERI = pd.DataFrame(list(zip(values_ERI,counts_ERI)),columns=['Code','Count'])\n",
    "research_codes_ERI['Label']=research_codes_ERI['Code'].str.extract('(\\w+)', expand=True)\n",
    "#research_codes_ERI['ID']=research_codes_ERI['Code'].str.extract('([^.0-9])', expand=True)\n",
    "#research_codes_ERI['ID']\n",
    "rc_grouped = research_codes_ERI.groupby(['Label'],as_index=False)['Count'].sum().sort_values(by=['Count'],ascending=False)\n",
    "sorted_rc = research_codes_ERI.sort_values('Count',ascending=False).drop_duplicates(['Label'])\n",
    "sorted_rc[['id','name']] = sorted_rc[\"Code\"].str.split(n=1, expand=True)\n",
    "sorted_rc.head()\n",
    "#sorted_rc.to_csv('publications/ERI-publications-FOR-codes.csv')\n",
    "#sorted_rc.shape\n"
   ]
  },
  {
   "cell_type": "code",
   "execution_count": 5,
   "metadata": {},
   "outputs": [
    {
     "data": {
      "text/html": [
       "<div>\n",
       "<style scoped>\n",
       "    .dataframe tbody tr th:only-of-type {\n",
       "        vertical-align: middle;\n",
       "    }\n",
       "\n",
       "    .dataframe tbody tr th {\n",
       "        vertical-align: top;\n",
       "    }\n",
       "\n",
       "    .dataframe thead th {\n",
       "        text-align: right;\n",
       "    }\n",
       "</style>\n",
       "<table border=\"1\" class=\"dataframe\">\n",
       "  <thead>\n",
       "    <tr style=\"text-align: right;\">\n",
       "      <th></th>\n",
       "      <th>division</th>\n",
       "      <th>group</th>\n",
       "      <th>label</th>\n",
       "      <th>count</th>\n",
       "    </tr>\n",
       "  </thead>\n",
       "  <tbody>\n",
       "    <tr>\n",
       "      <th>0</th>\n",
       "      <td>Biological Sciences</td>\n",
       "      <td>Biological Sciences</td>\n",
       "      <td>6</td>\n",
       "      <td>688</td>\n",
       "    </tr>\n",
       "    <tr>\n",
       "      <th>1</th>\n",
       "      <td>Earth Sciences</td>\n",
       "      <td>Earth Sciences</td>\n",
       "      <td>4</td>\n",
       "      <td>554</td>\n",
       "    </tr>\n",
       "    <tr>\n",
       "      <th>3</th>\n",
       "      <td>Earth Sciences</td>\n",
       "      <td>Geology</td>\n",
       "      <td>403</td>\n",
       "      <td>417</td>\n",
       "    </tr>\n",
       "    <tr>\n",
       "      <th>4</th>\n",
       "      <td>Environmental Sciences</td>\n",
       "      <td>Environmental Science and Management</td>\n",
       "      <td>502</td>\n",
       "      <td>338</td>\n",
       "    </tr>\n",
       "    <tr>\n",
       "      <th>5</th>\n",
       "      <td>Biological Sciences</td>\n",
       "      <td>Ecology</td>\n",
       "      <td>602</td>\n",
       "      <td>305</td>\n",
       "    </tr>\n",
       "  </tbody>\n",
       "</table>\n",
       "</div>"
      ],
      "text/plain": [
       "                 division                                 group  label  count\n",
       "0     Biological Sciences                   Biological Sciences      6    688\n",
       "1          Earth Sciences                        Earth Sciences      4    554\n",
       "3          Earth Sciences                               Geology    403    417\n",
       "4  Environmental Sciences  Environmental Science and Management    502    338\n",
       "5     Biological Sciences                               Ecology    602    305"
      ]
     },
     "execution_count": 5,
     "metadata": {},
     "output_type": "execute_result"
    }
   ],
   "source": [
    "# Split ERI FOR codes into divisions and groups ('division','group','label','count')\n",
    "# CHANGE filename of treemap file accordingly when saving out csv file\n",
    "new_codes = pd.DataFrame(columns=['division','group','label','count'])\n",
    "new_codes['label'] = sorted_rc['Label'].astype('int64')\n",
    "\n",
    "def catdiv(c):\n",
    "    if (((c['label'] >= 100) & (c['label'] <= 199)) | (c['label'] == 1)):\n",
    "        return 'Mathematical Sciences'\n",
    "    elif (((c['label'] >= 200) & (c['label'] <= 299)) | (c['label'] == 2)):\n",
    "        return 'Physical Sciences'\n",
    "    elif (((c['label'] >= 300) & (c['label'] <= 399)) | (c['label'] == 3)):\n",
    "        return 'Chemical Sciences'\n",
    "    elif (((c['label'] >= 400) & (c['label'] <= 499)) | (c['label'] == 4)):\n",
    "        return 'Earth Sciences'\n",
    "    elif (((c['label'] >= 500) & (c['label'] <= 599)) | (c['label'] == 5)):\n",
    "        return 'Environmental Sciences'\n",
    "    elif ((c['label'] >= 600) & (c['label'] <= 699)) | (c['label'] == 6):\n",
    "        return 'Biological Sciences'\n",
    "    elif (((c['label'] >= 700) & (c['label'] <= 799)) | (c['label'] == 7)):\n",
    "        return 'Agricultural and Veterinary Sciences'\n",
    "    elif (((c['label'] >= 800) & (c['label'] <= 899)) | (c['label'] == 8)):\n",
    "        return 'Information and Computing Sciences'\n",
    "    elif (((c['label'] >= 900) & (c['label'] <= 999)) | (c['label'] == 9)):\n",
    "        return 'Engineering'\n",
    "    elif (((c['label'] >= 1000) & (c['label'] <= 1099)) | (c['label'] == 10)):\n",
    "        return 'Technology'\n",
    "    elif (((c['label'] >= 1100) & (c['label'] <= 1199)) | (c['label'] == 11)):\n",
    "        return 'Medical and Health Sciences'\n",
    "    elif (((c['label'] >= 1200) & (c['label'] <= 1299)) | (c['label'] == 12)):\n",
    "        return 'Built Environment and Design'\n",
    "    elif (((c['label'] >= 1300) & (c['label'] <= 1399)) | (c['label'] == 13)):\n",
    "        return 'Education'\n",
    "    elif (((c['label'] >= 1400) & (c['label'] <= 1499)) | (c['label'] == 14)):\n",
    "        return 'Economics'\n",
    "    elif (((c['label'] >= 1500) & (c['label'] <= 1599)) | (c['label'] == 15)):\n",
    "        return 'Commerce, Management, Tourism and Services'\n",
    "    elif (((c['label'] >= 1600) & (c['label'] <= 1699)) | (c['label'] == 16)):\n",
    "        return 'Studies in Human Society'\n",
    "    elif (((c['label'] >= 1700) & (c['label'] <= 1799)) | (c['label'] == 17)):\n",
    "        return 'Psychology and Cognitive Sciences'\n",
    "    elif (((c['label'] >= 1800) & (c['label'] <= 1899)) | (c['label'] == 18)):\n",
    "        return 'Law and Legal Studies'\n",
    "    elif (((c['label'] >= 1900) & (c['label'] <= 1999)) | (c['label'] == 19)):\n",
    "        return 'Studies in Creative Arts and Writing'\n",
    "    elif (((c['label'] >= 2000) & (c['label'] <= 2099)) | (c['label'] == 20)):\n",
    "        return 'Language, Communication, and Culture'\n",
    "    elif (((c['label'] >= 2100) & (c['label'] <= 2199)) | (c['label'] == 21)):\n",
    "        return 'History and Archaeology'\n",
    "    elif (((c['label'] >= 2200) & (c['label'] <= 2299)) | (c['label'] == 22)):\n",
    "        return 'Philosophy and Religious Studies'\n",
    "    else:\n",
    "        return 'Undefined'\n",
    "\n",
    "def catgrp(x):\n",
    "    if ((x['label'] >= 1) & (x['label'] <= 22)):\n",
    "        return 'Undefined'\n",
    "    else:\n",
    "        return sorted_rc['Code']\n",
    "\n",
    "new_codes['division'] = new_codes.apply(catdiv, axis=1)\n",
    "new_codes['group'] = sorted_rc['name']\n",
    "new_codes['count'] = sorted_rc['Count']\n",
    "new_codes.sort_values('group')\n",
    "#new_codes.shape\n",
    "new_codes.to_csv(\"data/publications/ERI-publications-2009-2014-treemap-deduplicated.csv\")\n",
    "#filtered_codes = new_codes['label']> 22\n",
    "#filtered_codes = new_codes['count']> 1\n",
    "#new_codes['count'] = new_codes[filtered_codes]\n",
    "new_codes.head()\n",
    "#new_codes_filtered.sort_values('label')\n"
   ]
  },
  {
   "cell_type": "code",
   "execution_count": 22,
   "metadata": {},
   "outputs": [],
   "source": [
    "# Create a dataframe merging both review periods by an outer join on labels field (NA is 0 if FOR code missing)\n",
    "all_data_09 = pd.read_csv(\"data/publications/ERI-publications-2009-2014-treemap-deduplicated.csv\",index_col=0)\n",
    "all_data_14 = pd.read_csv(\"data/publications/ERI-publications-2014-2019-treemap-deduplicated.csv\",index_col=0)\n",
    "\n",
    "merge_all_data = pd.merge(all_data_14,all_data_09[['label','count']],on='label',how='outer',suffixes=('_14_19','_09_14'))\n",
    "merge_all_data['count_14_19'].fillna(0, inplace=True)\n",
    "merge_all_data['count_09_14'].fillna(0, inplace=True)\n",
    "merge_all_data['difference'] = merge_all_data['count_14_19'] - merge_all_data['count_09_14']\n",
    "\n",
    "sum_09 = merge_all_data['count_09_14'].sum()\n",
    "sum_14 = merge_all_data['count_14_19'].sum()\n",
    "\n",
    "merge_all_data['norm_09_14'] = merge_all_data['count_09_14'] / sum_09\n",
    "merge_all_data['norm_14_19'] = merge_all_data['count_14_19'] / sum_14\n",
    "\n",
    "merge_all_data['norm_diff'] = merge_all_data['norm_14_19'] - merge_all_data['norm_09_14']\n",
    "clean_merge = merge_all_data.dropna(how='any')\n",
    "clean_merge\n",
    "clean_merge.to_csv(\"data/publications/ERI-publications-2019-2009-difference-treemap-deduplicated-V2.csv\")"
   ]
  },
  {
   "cell_type": "code",
   "execution_count": null,
   "metadata": {},
   "outputs": [],
   "source": []
  }
 ],
 "metadata": {
  "kernelspec": {
   "display_name": "Python 3",
   "language": "python",
   "name": "python3"
  },
  "language_info": {
   "codemirror_mode": {
    "name": "ipython",
    "version": 3
   },
   "file_extension": ".py",
   "mimetype": "text/x-python",
   "name": "python",
   "nbconvert_exporter": "python",
   "pygments_lexer": "ipython3",
   "version": "3.7.3"
  }
 },
 "nbformat": 4,
 "nbformat_minor": 4
}
