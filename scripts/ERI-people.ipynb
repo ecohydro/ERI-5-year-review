{
 "cells": [
  {
   "cell_type": "code",
   "execution_count": null,
   "metadata": {},
   "outputs": [],
   "source": [
    "# Import libraries\n",
    "import pandas as pd\n",
    "import scholarly\n",
    "import urllib"
   ]
  },
  {
   "cell_type": "code",
   "execution_count": 9,
   "metadata": {},
   "outputs": [],
   "source": [
    "# Read in csv of ERI PIs (2009-2014 | 2014-2019) to dataframe to enrich PI list with Google Scholar info\n",
    "df = pd.read_csv('data/people/ERI-people-2009-2014.csv',index_col=False)\n",
    "#df.head()"
   ]
  },
  {
   "cell_type": "code",
   "execution_count": 10,
   "metadata": {},
   "outputs": [
    {
     "name": "stdout",
     "output_type": "stream",
     "text": [
      "137\n"
     ]
    }
   ],
   "source": [
    "# Read in Researcher (name, university) and Name (name) columns to separate lists; return count of PIs\n",
    "researchers = df['Researcher'].tolist()\n",
    "print(len(researchers))\n",
    "names = df['Name'].tolist()"
   ]
  },
  {
   "cell_type": "code",
   "execution_count": 3,
   "metadata": {},
   "outputs": [
    {
     "name": "stdout",
     "output_type": "stream",
     "text": [
      "{'_filled': False,\n",
      " 'affiliation': 'Asst. Research Biologist, University of CA Santa Barbara',\n",
      " 'citedby': 849,\n",
      " 'email': '@lifesci.ucsb.edu',\n",
      " 'id': '-H7Y-VUAAAAJ',\n",
      " 'interests': ['community ecology',\n",
      "               'plant ecology',\n",
      "               'shrublands',\n",
      "               'oak woodlands'],\n",
      " 'name': 'Claudia Tyler',\n",
      " 'url_picture': 'https://scholar.google.com/citations?view_op=medium_photo&user=-H7Y-VUAAAAJ'}\n"
     ]
    }
   ],
   "source": [
    "# optional - test that scholarly package returns a generator of Author objects\n",
    "print(next(scholarly.search_author(researchers[129])))"
   ]
  },
  {
   "cell_type": "code",
   "execution_count": 11,
   "metadata": {},
   "outputs": [
    {
     "name": "stdout",
     "output_type": "stream",
     "text": [
      "Error Tanya Atwater UCSB not found\n",
      "Error Andrew Ballantine UCSB not found\n",
      "Error Lars Bildsten UCSB not found\n",
      "Error Jim Boles UCSB not found\n",
      "Error Jean Carlson UCSB not found\n",
      "Error Brian Clarke UCSB not found\n",
      "Error Duane DeVecchio UCSB not found\n",
      "Error Erica Fleishman UCSB not found\n",
      "Error Michael Freeston UCSB not found\n",
      "Error William Freudenburg UCSB not found\n",
      "Error Catherine Gautier UCSB not found\n",
      "Error Michael Goodchild UCSB not found\n",
      "Error Larry Gurrola UCSB not found\n",
      "Error Trevor Hayton UCSB not found\n",
      "Error Greg Janee UCSB not found\n",
      "Error Brenda Johnson UCSB not found\n",
      "Error Matthew Kay UCSB not found\n",
      "Error Bernard Kirtman UCSB not found\n",
      "Error Charles Kolstad UCSB not found\n",
      "Error Helena Kooijman Swedish Museum of Natural History, Stockholm not found\n",
      "Error Sotiria Lampoudi UCSB not found\n",
      "Error Jim Langer UCSB not found\n",
      "Error Daniel Lavallee UCSB not found\n",
      "Error Stephane Maritorena UCSB not found\n",
      "Error James Mattinson UCSB not found\n",
      "Error Ed McCauley UCSB not found\n",
      "Error Joseph McFadden UCSB not found\n",
      "Error Joel Michaelsen UCSB not found\n",
      "Error Norm Nelson UCSB not found\n",
      "Error Diane Schweizer UCSB not found\n",
      "Error Sandra Seale UCSB not found\n",
      "Error Raymond Smith UCSB not found\n",
      "Error Terence Smith UCSB not found\n",
      "Error David Stoms UCSB not found\n",
      "Error Lisa Stratton UCSB not found\n",
      "Error Jennifer Thorsch UCSB not found\n",
      "Error Zhengming Wan UCSB not found\n",
      "Error Bob Wilkinson UCSB not found\n"
     ]
    }
   ],
   "source": [
    "# Retrieve author identifier and interest keywords (takes several minutes to run)\n",
    "identifier = []\n",
    "interests = []\n",
    "for PI in researchers:\n",
    "    author = next(scholarly.search_author(PI),None)\n",
    "    if author is None:\n",
    "        print(\"Error %s not found\" %PI)\n",
    "        identifier.append(\"none\")\n",
    "        interests.append(\"none\")\n",
    "    else:\n",
    "        #print(author.id)\n",
    "        #print(author.interests)\n",
    "        identifier.append(author.id)\n",
    "        interests.append(author.interests)"
   ]
  },
  {
   "cell_type": "code",
   "execution_count": 12,
   "metadata": {},
   "outputs": [],
   "source": [
    "# Write PI identifiers to URLs (page sorted chronologically by publication date)\n",
    "urls = []\n",
    "for element in identifier:\n",
    "    if element == 'none':\n",
    "        urls.append('none')\n",
    "    else:\n",
    "        sample_url = 'https://scholar.google.com/citations?user='+element+'&view_op=list_works&sortby=pubdate'\n",
    "        urls.append(sample_url)\n",
    "#print(urls)"
   ]
  },
  {
   "cell_type": "code",
   "execution_count": 13,
   "metadata": {},
   "outputs": [
    {
     "name": "stdout",
     "output_type": "stream",
     "text": [
      "Douglas Burbank\n",
      "Roland Geyer\n",
      "Stacia Gordon\n",
      "Rachel Haymon\n",
      "Andrew Kylander-Clark\n",
      "Ira Leifer\n",
      "Marina Levy\n",
      "Simone Pulver\n",
      "Galen Stucky\n",
      "Stuart Sweeney\n",
      "Libe Washburn\n"
     ]
    }
   ],
   "source": [
    "# Clean interest keywords to remove PI name and convert list to string\n",
    "keys = []\n",
    "for entry in interests:\n",
    "    for name in names:\n",
    "        if entry[0] == name:\n",
    "            print(entry[0])\n",
    "            keys.append('none')\n",
    "        else:\n",
    "            keys.append(entry)\n",
    "#print(keys)"
   ]
  },
  {
   "cell_type": "code",
   "execution_count": 14,
   "metadata": {},
   "outputs": [],
   "source": [
    "# Write PI id to Scholar_Identifier column, interests to Scholar_Keywords column, and url to Scholar_Url in new csv\n",
    "column_identifier = pd.Series(identifier)\n",
    "column_interests = pd.Series(interests)\n",
    "column_url = pd.Series(urls)\n",
    "df.insert(loc=9, column='Scholar_Identifier', value=column_identifier)\n",
    "df.insert(loc=10, column='Scholar_Url', value=column_url)\n",
    "df.insert(loc=11, column='Scholar_Keywords', value=column_interests)\n",
    "#print(df)\n",
    "df.to_csv('data/people/ERI-people-2009-2014_processed.csv')"
   ]
  },
  {
   "cell_type": "code",
   "execution_count": 15,
   "metadata": {},
   "outputs": [
    {
     "name": "stdout",
     "output_type": "stream",
     "text": [
      "https://scholar.google.com/citations?user=RCP0c0kAAAAJ&view_op=list_works&sortby=pubdate\n"
     ]
    }
   ],
   "source": [
    "# Get publication list from a given PI's url\n",
    "print(urls[0])"
   ]
  },
  {
   "cell_type": "code",
   "execution_count": null,
   "metadata": {},
   "outputs": [],
   "source": []
  }
 ],
 "metadata": {
  "kernelspec": {
   "display_name": "Python 3",
   "language": "python",
   "name": "python3"
  },
  "language_info": {
   "codemirror_mode": {
    "name": "ipython",
    "version": 3
   },
   "file_extension": ".py",
   "mimetype": "text/x-python",
   "name": "python",
   "nbconvert_exporter": "python",
   "pygments_lexer": "ipython3",
   "version": "3.7.3"
  }
 },
 "nbformat": 4,
 "nbformat_minor": 4
}
