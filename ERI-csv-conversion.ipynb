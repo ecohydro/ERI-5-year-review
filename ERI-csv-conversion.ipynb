{
 "cells": [
  {
   "cell_type": "code",
   "execution_count": 3,
   "metadata": {},
   "outputs": [],
   "source": [
    "# Read csvs to dataframes, write dataframes to JSON (orient='records') rather than 'split' (default)\n",
    "import pandas as pd\n",
    "\n",
    "prj_data = pd.read_csv('projects/ERI-projects-2014-2019.csv')\n",
    "pis_data = pd.read_csv('people/ERI-people-2014-2019_processed.csv')\n",
    "pub_data = pd.read_csv('publications/ERI-publications-2014-2019_processed.csv')\n",
    "\n",
    "prj_data.to_json(r'projects/ERI-projects-2014-2019.json',orient='records')\n",
    "pis_data.to_json(r'people/ERI-people-2014-2019_processed.json',orient='records')\n",
    "pub_data.to_json(r'publications/ERI-publications-2014-2019_processed.json',orient='records')"
   ]
  }
 ],
 "metadata": {
  "kernelspec": {
   "display_name": "Python 3",
   "language": "python",
   "name": "python3"
  },
  "language_info": {
   "codemirror_mode": {
    "name": "ipython",
    "version": 3
   },
   "file_extension": ".py",
   "mimetype": "text/x-python",
   "name": "python",
   "nbconvert_exporter": "python",
   "pygments_lexer": "ipython3",
   "version": "3.7.3"
  }
 },
 "nbformat": 4,
 "nbformat_minor": 4
}
