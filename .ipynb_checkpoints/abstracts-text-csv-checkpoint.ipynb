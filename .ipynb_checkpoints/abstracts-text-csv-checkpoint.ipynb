{
 "cells": [
  {
   "cell_type": "code",
   "execution_count": 1,
   "metadata": {},
   "outputs": [],
   "source": [
    "#create a dictionary\n",
    "dic = {}"
   ]
  },
  {
   "cell_type": "code",
   "execution_count": 2,
   "metadata": {},
   "outputs": [],
   "source": [
    "#create a csv to write\n",
    "abstracts_dir = \"abstracts.csv\"\n",
    "csv = open(abstracts_dir, \"w\")"
   ]
  },
  {
   "cell_type": "code",
   "execution_count": 14,
   "metadata": {},
   "outputs": [
    {
     "data": {
      "text/plain": [
       "56"
      ]
     },
     "execution_count": 14,
     "metadata": {},
     "output_type": "execute_result"
    }
   ],
   "source": [
    "#format csv with headers\n",
    "columnTitleRow = \"id, PI_DATES_AMOUNT, AGENCY_IDENTIFIER, TITLE, ABSTRACT\\n\"\n",
    "csv.write(columnTitleRow)"
   ]
  },
  {
   "cell_type": "code",
   "execution_count": 7,
   "metadata": {},
   "outputs": [],
   "source": [
    "# write dictionary to csv\n",
    "for key in dic.keys():\n",
    "    id = key\n",
    "    PI_DATES_AMOUNT = dic[key]\n",
    "    AGENCY_IDENTIFIER = dic[key]\n",
    "    TITLE = dic[key]\n",
    "    ABSTRACT = dic[key]\n",
    "    row = id + \",\" + PI_DATES_AMOUNT + \",\" + AGENCY_IDENTIFIER + \",\" + TITLE + \",\" + ABSTRACT + \"/n\"\n",
    "    csv.write(row)"
   ]
  },
  {
   "cell_type": "code",
   "execution_count": 12,
   "metadata": {},
   "outputs": [
    {
     "name": "stdout",
     "output_type": "stream",
     "text": [
      "{'id': '1', 'PI_DATES_AMOUNT': 'Sarah Anderson 8/15/187/31/20 $16,885 Elizabeth Hiroyasu', 'AGENCY_IDENTIFIER': 'National Science Foundation 1747562', 'TITLE': 'Doctoral Dissertation Research: Using Prospect Theory and Human Perceptions of Wildlife to Predict Support for Invasive Species Management', 'ABSTRACT': ''}\n"
     ]
    }
   ],
   "source": [
    "# check if csv has rows\n",
    "print(dic)"
   ]
  },
  {
   "cell_type": "code",
   "execution_count": null,
   "metadata": {},
   "outputs": [],
   "source": []
  }
 ],
 "metadata": {
  "kernelspec": {
   "display_name": "Python 3",
   "language": "python",
   "name": "python3"
  },
  "language_info": {
   "codemirror_mode": {
    "name": "ipython",
    "version": 3
   },
   "file_extension": ".py",
   "mimetype": "text/x-python",
   "name": "python",
   "nbconvert_exporter": "python",
   "pygments_lexer": "ipython3",
   "version": "3.7.3"
  }
 },
 "nbformat": 4,
 "nbformat_minor": 4
}
