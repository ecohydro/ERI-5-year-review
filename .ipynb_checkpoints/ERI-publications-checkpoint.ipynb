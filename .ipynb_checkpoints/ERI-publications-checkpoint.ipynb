{
 "cells": [
  {
   "cell_type": "code",
   "execution_count": 60,
   "metadata": {},
   "outputs": [],
   "source": [
    "# Read in all Excel sheets of ERI PI from Dimensions to a individual dataframes, write each out to a separate csv\n",
    "import pandas as pd\n",
    "import numpy as np\n",
    "import glob\n",
    "import os\n",
    "\n",
    "path_to_excel_files = glob.glob('publications/ERI-publications-dimensions/*.xlsx')\n",
    "for excel in path_to_excel_files:\n",
    "    out = excel.split('.')[0]+'.csv'\n",
    "    df = pd.read_excel(excel)\n",
    "    df.to_csv(out)"
   ]
  },
  {
   "cell_type": "code",
   "execution_count": 61,
   "metadata": {},
   "outputs": [
    {
     "data": {
      "text/plain": [
       "13383"
      ]
     },
     "execution_count": 61,
     "metadata": {},
     "output_type": "execute_result"
    }
   ],
   "source": [
    "# Read in all Excel sheets of ERI PIs from Dimensions to a single dataframe (all_data)\n",
    "\n",
    "all_data = pd.DataFrame()\n",
    "for f in glob.glob(\"publications/ERI-publications-dimensions/*.xlsx\"):\n",
    "    df = pd.read_excel(f,index_col=None,skiprows=1)\n",
    "    df['filename'] = os.path.basename(f)\n",
    "    all_data = all_data.append(df,ignore_index=True, sort=False)\n",
    "all_data.head()\n",
    "len(all_data)"
   ]
  },
  {
   "cell_type": "code",
   "execution_count": 62,
   "metadata": {},
   "outputs": [],
   "source": [
    "# Write dataframe (all_data) to a single csv (ERI-Publications)\n",
    "all_data.to_csv('publications/ERI-publications_processed.csv')"
   ]
  },
  {
   "cell_type": "code",
   "execution_count": 63,
   "metadata": {},
   "outputs": [
    {
     "data": {
      "text/plain": [
       "4727"
      ]
     },
     "execution_count": 63,
     "metadata": {},
     "output_type": "execute_result"
    }
   ],
   "source": [
    "# Subset dataframe (all_data) to only include records (2014-2019)\n",
    "subset = all_data[(all_data.PubYear>=2014.0)&(all_data.PubYear<=2019.0)]\n",
    "subset.dtypes\n",
    "subset.head()\n",
    "len(subset)"
   ]
  },
  {
   "cell_type": "code",
   "execution_count": 64,
   "metadata": {},
   "outputs": [],
   "source": [
    "# Write dataframe (subset) to a single csv (ERI-Publications-2014-2019)\n",
    "subset.to_csv('publications/ERI-publications-2014-2019_processed.csv')"
   ]
  }
 ],
 "metadata": {
  "kernelspec": {
   "display_name": "Python 3",
   "language": "python",
   "name": "python3"
  },
  "language_info": {
   "codemirror_mode": {
    "name": "ipython",
    "version": 3
   },
   "file_extension": ".py",
   "mimetype": "text/x-python",
   "name": "python",
   "nbconvert_exporter": "python",
   "pygments_lexer": "ipython3",
   "version": "3.7.3"
  }
 },
 "nbformat": 4,
 "nbformat_minor": 4
}
