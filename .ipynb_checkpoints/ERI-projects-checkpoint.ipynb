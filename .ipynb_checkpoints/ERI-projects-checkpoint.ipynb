{
 "cells": [
  {
   "cell_type": "code",
   "execution_count": 1,
   "metadata": {},
   "outputs": [],
   "source": [
    "# Import libraries\n",
    "import pandas as pd\n",
    "import numpy as np\n",
    "import glob\n",
    "import os"
   ]
  },
  {
   "cell_type": "code",
   "execution_count": 18,
   "metadata": {},
   "outputs": [
    {
     "data": {
      "text/html": [
       "<div>\n",
       "<style scoped>\n",
       "    .dataframe tbody tr th:only-of-type {\n",
       "        vertical-align: middle;\n",
       "    }\n",
       "\n",
       "    .dataframe tbody tr th {\n",
       "        vertical-align: top;\n",
       "    }\n",
       "\n",
       "    .dataframe thead th {\n",
       "        text-align: right;\n",
       "    }\n",
       "</style>\n",
       "<table border=\"1\" class=\"dataframe\">\n",
       "  <thead>\n",
       "    <tr style=\"text-align: right;\">\n",
       "      <th></th>\n",
       "      <th>amount</th>\n",
       "      <th>agency</th>\n",
       "      <th>relationship</th>\n",
       "    </tr>\n",
       "  </thead>\n",
       "  <tbody>\n",
       "    <tr>\n",
       "      <th>0</th>\n",
       "      <td>8250820</td>\n",
       "      <td>National Science Foundation</td>\n",
       "      <td>Federal agencies</td>\n",
       "    </tr>\n",
       "    <tr>\n",
       "      <th>1</th>\n",
       "      <td>280000</td>\n",
       "      <td>National Science Foundation</td>\n",
       "      <td>Federal agencies</td>\n",
       "    </tr>\n",
       "    <tr>\n",
       "      <th>2</th>\n",
       "      <td>2613461</td>\n",
       "      <td>Purdue University</td>\n",
       "      <td>Institutes of higher education</td>\n",
       "    </tr>\n",
       "    <tr>\n",
       "      <th>3</th>\n",
       "      <td>357736</td>\n",
       "      <td>National Aeronautics and Space Administration</td>\n",
       "      <td>Federal agencies</td>\n",
       "    </tr>\n",
       "    <tr>\n",
       "      <th>4</th>\n",
       "      <td>185621</td>\n",
       "      <td>National Science Foundation</td>\n",
       "      <td>Federal agencies</td>\n",
       "    </tr>\n",
       "  </tbody>\n",
       "</table>\n",
       "</div>"
      ],
      "text/plain": [
       "    amount                                         agency  \\\n",
       "0  8250820                    National Science Foundation   \n",
       "1   280000                    National Science Foundation   \n",
       "2  2613461                              Purdue University   \n",
       "3   357736  National Aeronautics and Space Administration   \n",
       "4   185621                    National Science Foundation   \n",
       "\n",
       "                     relationship  \n",
       "0                Federal agencies  \n",
       "1                Federal agencies  \n",
       "2  Institutes of higher education  \n",
       "3                Federal agencies  \n",
       "4                Federal agencies  "
      ]
     },
     "execution_count": 18,
     "metadata": {},
     "output_type": "execute_result"
    }
   ],
   "source": [
    "# Load dataframes for all ERI funded projects (09-14 | 14-19)\n",
    "data_09 = pd.read_csv(\"data/projects/ERI-funded-projects-basic-2009-2014.csv\")\n",
    "data_14 = pd.read_csv(\"data/projects/ERI-funded-projects-basic-2014-2019.csv\")\n",
    "#data_09.head()\n",
    "data_14.head()"
   ]
  },
  {
   "cell_type": "code",
   "execution_count": 49,
   "metadata": {},
   "outputs": [],
   "source": [
    "# Group by agency, sum ($) and count\n",
    "agency_sum_09 = data_09.groupby(['agency','relationship'],as_index=False)['amount'].sum()\n",
    "agency_count_09 = data_09.groupby(['agency','relationship'],as_index=False)['amount'].count()\n",
    "agency_sum_14 = data_14.groupby(['agency','relationship'],as_index=False)['amount'].sum()\n",
    "agency_count_14 = data_14.groupby(['agency','relationship'],as_index=False)['amount'].count()\n",
    "agency_sum_14.sort_values('amount',ascending=False)\n",
    "agency_sum_09.to_csv(\"data/projects/ERI-projects-2009-2014-sum.csv\")\n",
    "agency_count_09.to_csv(\"data/projects/ERI-projects-2009-2014-count.csv\")\n",
    "agency_sum_14.to_csv(\"data/projects/ERI-projects-2014-2019-sum.csv\")\n",
    "agency_count_14.to_csv(\"data/projects/ERI-projects-2014-2019-count.csv\")"
   ]
  },
  {
   "cell_type": "code",
   "execution_count": 54,
   "metadata": {},
   "outputs": [
    {
     "data": {
      "text/html": [
       "<div>\n",
       "<style scoped>\n",
       "    .dataframe tbody tr th:only-of-type {\n",
       "        vertical-align: middle;\n",
       "    }\n",
       "\n",
       "    .dataframe tbody tr th {\n",
       "        vertical-align: top;\n",
       "    }\n",
       "\n",
       "    .dataframe thead th {\n",
       "        text-align: right;\n",
       "    }\n",
       "</style>\n",
       "<table border=\"1\" class=\"dataframe\">\n",
       "  <thead>\n",
       "    <tr style=\"text-align: right;\">\n",
       "      <th></th>\n",
       "      <th>relationship</th>\n",
       "      <th>amount</th>\n",
       "    </tr>\n",
       "  </thead>\n",
       "  <tbody>\n",
       "    <tr>\n",
       "      <th>0</th>\n",
       "      <td>California state, municipal agencies</td>\n",
       "      <td>33</td>\n",
       "    </tr>\n",
       "    <tr>\n",
       "      <th>1</th>\n",
       "      <td>Federal agencies</td>\n",
       "      <td>184</td>\n",
       "    </tr>\n",
       "    <tr>\n",
       "      <th>2</th>\n",
       "      <td>Institutes of higher education</td>\n",
       "      <td>59</td>\n",
       "    </tr>\n",
       "    <tr>\n",
       "      <th>3</th>\n",
       "      <td>Private agency, foundation</td>\n",
       "      <td>41</td>\n",
       "    </tr>\n",
       "    <tr>\n",
       "      <th>4</th>\n",
       "      <td>UC-wide</td>\n",
       "      <td>31</td>\n",
       "    </tr>\n",
       "  </tbody>\n",
       "</table>\n",
       "</div>"
      ],
      "text/plain": [
       "                           relationship  amount\n",
       "0  California state, municipal agencies      33\n",
       "1                      Federal agencies     184\n",
       "2        Institutes of higher education      59\n",
       "3            Private agency, foundation      41\n",
       "4                               UC-wide      31"
      ]
     },
     "execution_count": 54,
     "metadata": {},
     "output_type": "execute_result"
    }
   ],
   "source": [
    "# Summarize by relationship\n",
    "rel_sum_09 = data_09.groupby(['relationship'],as_index=False)['amount'].sum()\n",
    "rel_count_09 = data_09.groupby(['relationship'],as_index=False)['amount'].count()\n",
    "rel_sum_14 = data_14.groupby(['relationship'],as_index=False)['amount'].sum()\n",
    "rel_count_14 = data_14.groupby(['relationship'],as_index=False)['amount'].count()\n",
    "rel_count_09"
   ]
  },
  {
   "cell_type": "code",
   "execution_count": null,
   "metadata": {},
   "outputs": [],
   "source": [
    "# Create a dataframe merging both review periods by an outer join on labels field (NA is 0 if FOR code missing)\n",
    "merge_all_data = pd.merge(agency_grouped_14,agency_grouped_09[['label','count']],on='label',how='outer',suffixes=('_14_19','_09_14'))"
   ]
  }
 ],
 "metadata": {
  "kernelspec": {
   "display_name": "Python 3",
   "language": "python",
   "name": "python3"
  },
  "language_info": {
   "codemirror_mode": {
    "name": "ipython",
    "version": 3
   },
   "file_extension": ".py",
   "mimetype": "text/x-python",
   "name": "python",
   "nbconvert_exporter": "python",
   "pygments_lexer": "ipython3",
   "version": "3.7.3"
  }
 },
 "nbformat": 4,
 "nbformat_minor": 4
}
