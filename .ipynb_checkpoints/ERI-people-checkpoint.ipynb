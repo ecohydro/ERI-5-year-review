{
 "cells": [
  {
   "cell_type": "code",
   "execution_count": 6,
   "metadata": {},
   "outputs": [],
   "source": [
    "# Read in csv of ERI PIs (2014-2019) to dataframe\n",
    "import pandas as pd\n",
    "df = pd.read_csv('people/ERI-people-2014-2019.csv',index_col=False)\n",
    "#df.head()"
   ]
  },
  {
   "cell_type": "code",
   "execution_count": 7,
   "metadata": {},
   "outputs": [
    {
     "name": "stdout",
     "output_type": "stream",
     "text": [
      "203\n"
     ]
    }
   ],
   "source": [
    "# Read in Researcher (name, university) and Name (name) columns to separate lists\n",
    "researchers = df['Researcher'].tolist()\n",
    "print(len(researchers))\n",
    "names = df['Name'].tolist()"
   ]
  },
  {
   "cell_type": "code",
   "execution_count": 8,
   "metadata": {},
   "outputs": [
    {
     "name": "stdout",
     "output_type": "stream",
     "text": [
      "{'_filled': False,\n",
      " 'affiliation': 'UC Santa Barbara, Bren School of Environmental Science and '\n",
      "                'Management & Department …',\n",
      " 'citedby': 6258,\n",
      " 'email': '@ucsb.edu',\n",
      " 'id': 'VGaoB64AAAAJ',\n",
      " 'interests': ['Ecohydrology',\n",
      "               'Environmental Sciences',\n",
      "               'Ecology',\n",
      "               'Hydrology',\n",
      "               'Water Resources'],\n",
      " 'name': 'Kelly Caylor',\n",
      " 'url_picture': 'https://scholar.google.com/citations?view_op=medium_photo&user=VGaoB64AAAAJ'}\n"
     ]
    }
   ],
   "source": [
    "# Import and test that scholarly package returns a generator of Author objects\n",
    "import scholarly\n",
    "print(next(scholarly.search_author(researchers[129])))"
   ]
  },
  {
   "cell_type": "code",
   "execution_count": 9,
   "metadata": {},
   "outputs": [
    {
     "name": "stdout",
     "output_type": "stream",
     "text": [
      "Error Stanley Awramik UCSB not found\n",
      "Error Bruce Tiffney UCSB not found\n",
      "Error Andy Wyss UCSB not found\n",
      "Error Peter Collins UCSB not found\n",
      "Error Debora Iglesias-Rodriguez UCSB not found\n",
      "Error Raul Suarez UCSB not found\n",
      "Error Peter Alagona UCSB not found\n",
      "Error Summer Gray UCSB not found\n",
      "Error David Pellow UCSB not found\n",
      "Error Susan Stonich UCSB not found\n",
      "Error Robert Wilkinson UCSB not found\n",
      "Error Tommy Dickey UCSB not found\n",
      "Error Catherine Gautier UCSB not found\n",
      "Error Joseph McFadden UCSB not found\n",
      "Error Joel Michaelsen UCSB not found\n",
      "Error Dan Montello UCSB not found\n",
      "Error Jean Carlson UCSB not found\n",
      "Error Chandra Krintz UCSB not found\n",
      "Error Caryl Beccera UCSB not found\n",
      "Error Brian Clarke UCSB not found\n",
      "Error Duane DeVecchio UCSB not found\n",
      "Error Christopher Evelyn UCSB not found\n",
      "Error Erica Fleishman UCSB not found\n",
      "Error Helene Gardner UCSB not found\n",
      "Error Paul Hegarty UCSB not found\n",
      "Error Greg Janée UCSB not found\n",
      "Error Daniel Lavallee UCSB not found\n",
      "Error Stéphane Maritorena UCSB not found\n",
      "Error Jan Myers UCSB not found\n",
      "Error Norman Nelson UCSB not found\n",
      "Error Jesse Norris UCSB not found\n",
      "Error Margarita Portnykh UCSB not found\n",
      "Error Sandra Seale UCSB not found\n",
      "Error Andrea Stith UCSB not found\n",
      "Error Lisa Stratton UCSB not found\n",
      "Error Jennifer Thorsch UCSB not found\n"
     ]
    }
   ],
   "source": [
    "# Retrieve author identifier and keywords (takes several minutes to run)\n",
    "identifier = []\n",
    "interests = []\n",
    "for PI in researchers:\n",
    "    author = next(scholarly.search_author(PI),None)\n",
    "    if author is None:\n",
    "        print(\"Error %s not found\" %PI)\n",
    "        identifier.append(\"none\")\n",
    "        interests.append(\"none\")\n",
    "    else:\n",
    "        #print(author.id)\n",
    "        #print(author.interests)\n",
    "        identifier.append(author.id)\n",
    "        interests.append(author.interests)"
   ]
  },
  {
   "cell_type": "code",
   "execution_count": 10,
   "metadata": {},
   "outputs": [],
   "source": [
    "# Write PI identifiers to URLs sorted chronologically by publication date\n",
    "urls = []\n",
    "for element in identifier:\n",
    "    if element == 'none':\n",
    "        urls.append('none')\n",
    "    else:\n",
    "        sample_url = 'https://scholar.google.com/citations?user='+element+'&view_op=list_works&sortby=pubdate'\n",
    "        urls.append(sample_url)\n",
    "#print(urls)"
   ]
  },
  {
   "cell_type": "code",
   "execution_count": 11,
   "metadata": {},
   "outputs": [
    {
     "name": "stdout",
     "output_type": "stream",
     "text": [
      "Jeff Dozier\n",
      "Roland Geyer\n",
      "Gary Libecap\n",
      "Matthew Potoski\n",
      "Galen Stucky\n",
      "Douglas Burbank\n",
      "Ryoko Oono\n",
      "Simone Pulver\n",
      "Susan Cassels\n",
      "Stuart Sweeney\n",
      "Libe Washburn\n",
      "Samantha Stevenson\n",
      "Roland Knapp\n",
      "Andrew Kylander-Clark\n",
      "Ira Leifer\n"
     ]
    }
   ],
   "source": [
    "# Clean interest keywords to remove PI name and convert list to string\n",
    "keys = []\n",
    "for entry in interests:\n",
    "    for name in names:\n",
    "        if entry[0] == name:\n",
    "            print(entry[0])\n",
    "            keys.append('none')\n",
    "        else:\n",
    "            keys.append(entry)\n",
    "#print(keys)"
   ]
  },
  {
   "cell_type": "code",
   "execution_count": 12,
   "metadata": {},
   "outputs": [],
   "source": [
    "# Write PI id to Scholar_Identifier column, interests to Scholar_Keywords column, and url to Scholar_Url in new csv\n",
    "column_identifier = pd.Series(identifier)\n",
    "column_interests = pd.Series(interests)\n",
    "column_url = pd.Series(urls)\n",
    "df.insert(loc=9, column='Scholar_Identifier', value=column_identifier)\n",
    "df.insert(loc=10, column='Scholar_Url', value=column_url)\n",
    "df.insert(loc=11, column='Scholar_Keywords', value=column_interests)\n",
    "#print(df)\n",
    "df.to_csv('people/ERI-people-2014-2019_processed.csv')"
   ]
  },
  {
   "cell_type": "code",
   "execution_count": 14,
   "metadata": {},
   "outputs": [
    {
     "name": "stdout",
     "output_type": "stream",
     "text": [
      "https://scholar.google.com/citations?user=RCP0c0kAAAAJ&view_op=list_works&sortby=pubdate\n"
     ]
    }
   ],
   "source": [
    "# Get publication list (2014-2019) from a given author's url\n",
    "from bs4 import BeautifulSoup\n",
    "import urllib\n",
    "print(urls[0])"
   ]
  }
 ],
 "metadata": {
  "kernelspec": {
   "display_name": "Python 3",
   "language": "python",
   "name": "python3"
  },
  "language_info": {
   "codemirror_mode": {
    "name": "ipython",
    "version": 3
   },
   "file_extension": ".py",
   "mimetype": "text/x-python",
   "name": "python",
   "nbconvert_exporter": "python",
   "pygments_lexer": "ipython3",
   "version": "3.7.3"
  }
 },
 "nbformat": 4,
 "nbformat_minor": 4
}
